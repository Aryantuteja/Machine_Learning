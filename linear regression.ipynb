{
 "cells": [
  {
   "cell_type": "code",
   "execution_count": 2,
   "metadata": {},
   "outputs": [
    {
     "name": "stdout",
     "output_type": "stream",
     "text": [
      "1.9655172413793185 0.9762931034482752\n"
     ]
    },
    {
     "data": {
      "text/plain": [
       "[<matplotlib.lines.Line2D at 0x14165e02408>]"
      ]
     },
     "execution_count": 2,
     "metadata": {},
     "output_type": "execute_result"
    },
    {
     "data": {
      "image/png": "[encoded data removed]",
      "text/plain": [
       "<Figure size 432x288 with 1 Axes>"
      ]
     },
     "metadata": {
      "needs_background": "light"
     },
     "output_type": "display_data"
    }
   ],
   "source": [
    "import numpy as np\n",
    "import matplotlib.pyplot as plt\n",
    "import math\n",
    "\n",
    "def findW1(x,y):\n",
    "    num=np.sum(x*y-np.mean(y)*x)\n",
    "    den=np.sum(x*x-np.mean(x)*x)\n",
    "    return num/den\n",
    "\n",
    "def findW0(x,y):\n",
    "    return np.mean(y)-findW1(x,y)*np.mean(x)\n",
    "\n",
    "x = np.array([[6] , [8] , [10] , [14] , [18]])\n",
    "y = np.array([[7] , [9] , [13] , [17.5] , [18]])\n",
    "plt.scatter(x,y)\n",
    "plt.xlabel('Diametr of pizza')\n",
    "plt.ylabel('price of pizza')\n",
    "W0=findW0(x,y)\n",
    "W1=findW1(x,y)\n",
    "print(W0,W1)\n",
    "xpl = []\n",
    "ypl = []\n",
    "for i in range(6,19):\n",
    "    xpl.append(i)\n",
    "    ypl.append(W1*i+W0)\n",
    "    \n",
    "plt.plot(xpl,ypl)"
   ]
  },
  {
   "cell_type": "code",
   "execution_count": 4,
   "metadata": {},
   "outputs": [
    {
     "name": "stdout",
     "output_type": "stream",
     "text": [
      "1.9655172413793167 0.9762931034482758\n"
     ]
    },
    {
     "data": {
      "text/plain": [
       "[7.8232758620689715,\n",
       " 8.799568965517247,\n",
       " 9.775862068965523,\n",
       " 10.752155172413799,\n",
       " 11.728448275862075,\n",
       " 12.70474137931035,\n",
       " 13.681034482758626,\n",
       " 14.657327586206902,\n",
       " 15.633620689655178,\n",
       " 16.609913793103452,\n",
       " 17.58620689655173,\n",
       " 18.562500000000007,\n",
       " 19.53879310344828]"
      ]
     },
     "execution_count": 4,
     "metadata": {},
     "output_type": "execute_result"
    },
    {
     "data": {
      "image/png": "[encoded data removed]",
      "text/plain": [
       "<Figure size 432x288 with 1 Axes>"
      ]
     },
     "metadata": {
      "needs_background": "light"
     },
     "output_type": "display_data"
    }
   ],
   "source": [
    "x = np.array([[6,1] , [8,1] , [10,1] , [14,1] , [18,1]])\n",
    "y = np.array([[7] , [9] , [13] , [17.5] , [18]])\n",
    "plt.scatter(x[:,0],y)\n",
    "xt=np.matrix.transpose(x)\n",
    "xtx=xt.dot(x)\n",
    "inverse=np.linalg.inv(xtx)\n",
    "ans=inverse.dot(xt.dot(y))\n",
    "W0=ans[1,0]\n",
    "W1=ans[0,0]\n",
    "print(W0,W1)\n",
    "xpl = []\n",
    "ypl = []\n",
    "for i in range(6,19):\n",
    "    xpl.append(i)\n",
    "    ypl.append(W1*i+W0)\n",
    "    \n",
    "#plt.plot(xpl,ypl)\n",
    "ypl"
   ]
  },
  {
   "cell_type": "code",
   "execution_count": null,
   "metadata": {},
   "outputs": [],
   "source": []
  }
 ],
 "metadata": {
  "kernelspec": {
   "display_name": "Python 3",
   "language": "python",
   "name": "python3"
  },
  "language_info": {
   "codemirror_mode": {
    "name": "ipython",
    "version": 3
   },
   "file_extension": ".py",
   "mimetype": "text/x-python",
   "name": "python",
   "nbconvert_exporter": "python",
   "pygments_lexer": "ipython3",
   "version": "3.7.6"
  }
 },
 "nbformat": 4,
 "nbformat_minor": 4
}
