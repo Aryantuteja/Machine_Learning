{
 "cells": [
  {
   "cell_type": "code",
   "execution_count": 1,
   "metadata": {},
   "outputs": [],
   "source": [
    "from sklearn.cluster import KMeans\n",
    "import pandas as pd\n",
    "from sklearn.preprocessing import MinMaxScaler\n",
    "from matplotlib import pyplot as plt\n",
    "import numpy as np"
   ]
  },
  {
   "cell_type": "code",
   "execution_count": 6,
   "metadata": {},
   "outputs": [],
   "source": [
    "dataset = pd.read_csv(\"Iris.csv\")\n",
    "dataset.drop([\"Id\", \"Species\"], axis = \"columns\", inplace = True)\n",
    "dataset.drop(\"SepalLengthCm\", axis = \"columns\", inplace = True)\n",
    "dataset.drop(\"SepalWidthCm\", axis = \"columns\", inplace = True)\n",
    "scaler = MinMaxScaler()\n",
    "scaler.fit(dataset[['PetalLengthCm']])\n",
    "dataset[\"PetalLengthCm\"] = scaler.transform(dataset[[\"PetalLengthCm\"]])\n",
    "scaler.fit(dataset[['PetalWidthCm']])\n",
    "dataset[\"PetalWidthCm\"] = scaler.transform(dataset[[\"PetalWidthCm\"]])\n",
    "model = KMeans(n_clusters = 3)\n",
    "\n",
    "predicted = model.fit_predict(dataset)\n",
    "dataset[\"cluster\"] = predicted"
   ]
  },
  {
   "cell_type": "code",
   "execution_count": 3,
   "metadata": {},
   "outputs": [
    {
     "name": "stdout",
     "output_type": "stream",
     "text": [
      "[[0.55867014 0.51041667]\n",
      " [0.07864407 0.06      ]\n",
      " [0.7740113  0.81510417]]\n"
     ]
    },
    {
     "data": {
      "image/png": "[encoded data removed]",
      "text/plain": [
       "<Figure size 432x288 with 1 Axes>"
      ]
     },
     "metadata": {
      "needs_background": "light"
     },
     "output_type": "display_data"
    }
   ],
   "source": [
    "dataset1 = dataset[dataset[\"cluster\"] == 0]\n",
    "dataset2 = dataset[dataset[\"cluster\"] == 1]\n",
    "dataset3 = dataset[dataset[\"cluster\"] == 2]\n",
    "plt.scatter(dataset1[\"PetalLengthCm\"], dataset1[\"PetalWidthCm\"], color = \"red\")\n",
    "plt.scatter(dataset2[\"PetalLengthCm\"], dataset2[\"PetalWidthCm\"], color = \"blue\")\n",
    "plt.scatter(dataset3[\"PetalLengthCm\"], dataset3[\"PetalWidthCm\"], color = \"green\")\n",
    "x = model.cluster_centers_\n",
    "plt.scatter(model.cluster_centers_[0][0], model.cluster_centers_[0][1], marker = \"*\")\n",
    "plt.scatter(model.cluster_centers_[1][0], model.cluster_centers_[1][1], marker = \"*\")\n",
    "plt.scatter(model.cluster_centers_[2][0], model.cluster_centers_[2][1], marker = \"*\")\n",
    "print(x)"
   ]
  },
  {
   "cell_type": "code",
   "execution_count": 7,
   "metadata": {},
   "outputs": [
    {
     "data": {
      "text/html": [
       "<div>\n",
       "<style scoped>\n",
       "    .dataframe tbody tr th:only-of-type {\n",
       "        vertical-align: middle;\n",
       "    }\n",
       "\n",
       "    .dataframe tbody tr th {\n",
       "        vertical-align: top;\n",
       "    }\n",
       "\n",
       "    .dataframe thead th {\n",
       "        text-align: right;\n",
       "    }\n",
       "</style>\n",
       "<table border=\"1\" class=\"dataframe\">\n",
       "  <thead>\n",
       "    <tr style=\"text-align: right;\">\n",
       "      <th></th>\n",
       "      <th>PetalLengthCm</th>\n",
       "      <th>PetalWidthCm</th>\n",
       "      <th>cluster</th>\n",
       "    </tr>\n",
       "  </thead>\n",
       "  <tbody>\n",
       "    <tr>\n",
       "      <th>0</th>\n",
       "      <td>0.067797</td>\n",
       "      <td>0.041667</td>\n",
       "      <td>1</td>\n",
       "    </tr>\n",
       "    <tr>\n",
       "      <th>1</th>\n",
       "      <td>0.067797</td>\n",
       "      <td>0.041667</td>\n",
       "      <td>1</td>\n",
       "    </tr>\n",
       "    <tr>\n",
       "      <th>2</th>\n",
       "      <td>0.050847</td>\n",
       "      <td>0.041667</td>\n",
       "      <td>1</td>\n",
       "    </tr>\n",
       "    <tr>\n",
       "      <th>3</th>\n",
       "      <td>0.084746</td>\n",
       "      <td>0.041667</td>\n",
       "      <td>1</td>\n",
       "    </tr>\n",
       "    <tr>\n",
       "      <th>4</th>\n",
       "      <td>0.067797</td>\n",
       "      <td>0.041667</td>\n",
       "      <td>1</td>\n",
       "    </tr>\n",
       "  </tbody>\n",
       "</table>\n",
       "</div>"
      ],
      "text/plain": [
       "   PetalLengthCm  PetalWidthCm  cluster\n",
       "0       0.067797      0.041667        1\n",
       "1       0.067797      0.041667        1\n",
       "2       0.050847      0.041667        1\n",
       "3       0.084746      0.041667        1\n",
       "4       0.067797      0.041667        1"
      ]
     },
     "execution_count": 7,
     "metadata": {},
     "output_type": "execute_result"
    }
   ],
   "source": [
    "dataset.head()"
   ]
  },
  {
   "cell_type": "code",
   "execution_count": 4,
   "metadata": {},
   "outputs": [
    {
     "data": {
      "text/plain": [
       "[<matplotlib.lines.Line2D at 0x24e4a211760>]"
      ]
     },
     "execution_count": 4,
     "metadata": {},
     "output_type": "execute_result"
    },
    {
     "data": {
      "image/png": "[encoded data removed]",
      "text/plain": [
       "<Figure size 432x288 with 1 Axes>"
      ]
     },
     "metadata": {
      "needs_background": "light"
     },
     "output_type": "display_data"
    }
   ],
   "source": [
    "k_rng = range(1,10)\n",
    "ssr   = []\n",
    "for k in k_rng:\n",
    "    model = KMeans(n_clusters = k)\n",
    "    model.fit(dataset)\n",
    "    ssr.append(model.inertia_)\n",
    "plt.plot(k_rng, ssr)"
   ]
  }
 ],
 "metadata": {
  "kernelspec": {
   "display_name": "Python 3",
   "language": "python",
   "name": "python3"
  },
  "language_info": {
   "codemirror_mode": {
    "name": "ipython",
    "version": 3
   },
   "file_extension": ".py",
   "mimetype": "text/x-python",
   "name": "python",
   "nbconvert_exporter": "python",
   "pygments_lexer": "ipython3",
   "version": "3.7.6"
  }
 },
 "nbformat": 4,
 "nbformat_minor": 4
}
